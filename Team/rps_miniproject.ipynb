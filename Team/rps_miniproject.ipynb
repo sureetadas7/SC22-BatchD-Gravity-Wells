{
 "cells": [
  {
   "cell_type": "code",
   "execution_count": 4,
   "metadata": {
    "cocalc": {
     "outputs": {
      "0": {
       "name": "input",
       "opts": {
        "password": false,
        "prompt": "Select a choice\n1) Rock\n2) Paper\n3) Scissors\n4) End Game\n"
       },
       "output_type": "stream",
       "value": "3"
      },
      "2": {
       "name": "input",
       "opts": {
        "password": false,
        "prompt": "Select a choice\n1) Rock\n2) Paper\n3) Scissors\n4) End Game\n"
       },
       "output_type": "stream",
       "value": "2"
      },
      "4": {
       "name": "input",
       "opts": {
        "password": false,
        "prompt": "Select a choice\n1) Rock\n2) Paper\n3) Scissors\n4) End Game\n"
       },
       "output_type": "stream",
       "value": "4"
      }
     }
    },
    "collapsed": false
   },
   "outputs": [
    {
     "name": "stdout",
     "output_type": "stream",
     "text": "Select a choice\n1) Rock\n2) Paper\n3) Scissors\n4) End Game\n 3"
    },
    {
     "name": "stdout",
     "output_type": "stream",
     "text": [
      "Computer Choice: Scissors\n",
      "Tie!\n"
     ]
    },
    {
     "name": "stdout",
     "output_type": "stream",
     "text": "Select a choice\n1) Rock\n2) Paper\n3) Scissors\n4) End Game\n 2"
    },
    {
     "name": "stdout",
     "output_type": "stream",
     "text": [
      "Computer Choice: Scissors\n",
      "Computer Wins!\n"
     ]
    },
    {
     "name": "stdout",
     "output_type": "stream",
     "text": "Select a choice\n1) Rock\n2) Paper\n3) Scissors\n4) End Game\n 4"
    },
    {
     "name": "stdout",
     "output_type": "stream",
     "text": [
      "Ending Game :(\n"
     ]
    }
   ],
   "source": [
    "import numpy as np\n",
    "from time import sleep\n",
    "\n",
    "\n",
    "def rps():\n",
    "    while True:\n",
    "        usr_choice = input('Select a choice\\n1) Rock\\n2) Paper\\n3) Scissors\\n4) End Game\\n')\n",
    "        comp_choice = np.random.randint(1, 4)\n",
    "\n",
    "        if usr_choice == '4' or usr_choice.lower() == 'end game':\n",
    "            print('Ending Game :(')\n",
    "            break\n",
    "        elif usr_choice == '1' or usr_choice.lower() == 'rock':\n",
    "            if comp_choice == 1:\n",
    "                print('Computer Choice: Rock')\n",
    "                print('Tie!')\n",
    "            elif comp_choice == 2:\n",
    "                print('Computer Choice: Paper')\n",
    "                print('Computer Wins!')\n",
    "            else:\n",
    "                print('Computer Choice: Scissors')\n",
    "                print('You Win!')\n",
    "        elif usr_choice == '2' or usr_choice.lower() == 'paper':\n",
    "            if comp_choice == 1:\n",
    "                print('Computer Choice: Rock')\n",
    "                print('You Win!')\n",
    "            elif comp_choice == 2:\n",
    "                print('Computer Choice: Paper')\n",
    "                print('Tie!')\n",
    "            else:\n",
    "                print('Computer Choice: Scissors')\n",
    "                print('Computer Wins!')\n",
    "        elif usr_choice == '3' or usr_choice.lower() == 'scissors':\n",
    "            if comp_choice == 1:\n",
    "                print('Computer Choice: Rock')\n",
    "                print('Computer Wins!')\n",
    "            elif comp_choice == 2:\n",
    "                print('Computer Choice: Paper')\n",
    "                print('You Win!')\n",
    "            else:\n",
    "                print('Computer Choice: Scissors')\n",
    "                print('Tie!')\n",
    "        else:\n",
    "            print('INVALID CHOICE >:(')\n",
    "        sleep(0.5)\n",
    "\n",
    "\n",
    "rps()"
   ]
  },
  {
   "cell_type": "code",
   "execution_count": 0,
   "metadata": {
    "collapsed": false
   },
   "outputs": [
   ],
   "source": [
   ]
  },
  {
   "cell_type": "code",
   "execution_count": 0,
   "metadata": {
    "collapsed": false
   },
   "outputs": [
   ],
   "source": [
   ]
  },
  {
   "cell_type": "code",
   "execution_count": 0,
   "metadata": {
    "collapsed": false
   },
   "outputs": [
   ],
   "source": [
   ]
  },
  {
   "cell_type": "code",
   "execution_count": 0,
   "metadata": {
    "collapsed": false
   },
   "outputs": [
   ],
   "source": [
   ]
  },
  {
   "cell_type": "code",
   "execution_count": 0,
   "metadata": {
    "collapsed": false
   },
   "outputs": [
   ],
   "source": [
   ]
  },
  {
   "cell_type": "code",
   "execution_count": 0,
   "metadata": {
    "collapsed": false
   },
   "outputs": [
   ],
   "source": [
   ]
  },
  {
   "cell_type": "code",
   "execution_count": 0,
   "metadata": {
    "collapsed": false
   },
   "outputs": [
   ],
   "source": [
   ]
  },
  {
   "cell_type": "code",
   "execution_count": 0,
   "metadata": {
    "collapsed": false
   },
   "outputs": [
   ],
   "source": [
   ]
  }
 ],
 "metadata": {
  "kernelspec": {
   "display_name": "Python (ds_env)",
   "language": "python",
   "metadata": {
    "debugger": true
   },
   "name": "ds_env",
   "resource_dir": "/projects/e07d40f5-5cfc-4265-a995-712ecb653936/.local/share/jupyter/kernels/ds_env"
  },
  "language_info": {
   "codemirror_mode": {
    "name": "ipython",
    "version": 3
   },
   "file_extension": ".py",
   "mimetype": "text/x-python",
   "name": "python",
   "nbconvert_exporter": "python",
   "pygments_lexer": "ipython3",
   "version": "3.8.13"
  }
 },
 "nbformat": 4,
 "nbformat_minor": 4
}