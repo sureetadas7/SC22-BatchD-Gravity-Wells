{
 "cells": [
  {
   "cell_type": "code",
   "execution_count": 0,
   "metadata": {
    "collapsed": false
   },
   "outputs": [
   ],
   "source": [
   ]
  }
 ],
 "metadata": {
  "kernelspec": {
   "display_name": "Python (ds_env)",
   "language": "python",
   "metadata": {
    "debugger": true
   },
   "name": "ds_env",
   "resource_dir": "/projects/e07d40f5-5cfc-4265-a995-712ecb653936/.local/share/jupyter/kernels/ds_env"
  }
 },
 "nbformat": 4,
 "nbformat_minor": 4
}